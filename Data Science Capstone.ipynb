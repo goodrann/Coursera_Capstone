{
 "cells": [
  {
   "cell_type": "markdown",
   "metadata": {},
   "source": [
    "# Coursera Data Science capstone project"
   ]
  },
  {
   "cell_type": "markdown",
   "metadata": {},
   "source": [
    "5/10/2020"
   ]
  },
  {
   "cell_type": "markdown",
   "metadata": {},
   "source": [
    "## Introduction / Business Problem"
   ]
  },
  {
   "cell_type": "markdown",
   "metadata": {},
   "source": [
    "_Clearly define a problem or an idea of your choice, where you would need to leverage the Foursquare location data to solve or execute. Remember that data science problems always target an audience and are meant to help a group of stakeholders solve a problem, so make sure that you explicitly describe your audience and why they would care about your problem_"
   ]
  },
  {
   "cell_type": "markdown",
   "metadata": {},
   "source": [
    "In the past several years there has been a large increase in the number of \"foodies\" (A foodie is a person who has an ardent or refined interest in food and who eats food not only out of hunger but due to their interest or hobby[1]). \"The food marketing system, including food service and food retailing, supplied about $1.46 trillion worth of food in 2014.\"[2] This increase has pushed cities to develop their restaurant industry to include a diverse range of restaurants from all over the world. I would like to explore several cities in the U.S. and compare them based on the diversity of restaurants and those restaurants' ratings. For example, does Baltimore have an equal number of Afghan and Chinese restaurants and how does that compare to Seattle? This exploration will be useful for foodies looking to travel to cities on their next adventure or for the cities looking to bring in more tourism. \n"
   ]
  },
  {
   "cell_type": "markdown",
   "metadata": {},
   "source": [
    "1. https://en.wikipedia.org/wiki/Foodie\n",
    "2. https://www.ers.usda.gov/topics/food-markets-prices/food-service-industry/market-segments/"
   ]
  },
  {
   "cell_type": "markdown",
   "metadata": {},
   "source": [
    "## Data"
   ]
  },
  {
   "cell_type": "markdown",
   "metadata": {},
   "source": [
    "_Describe the data that you will be using to solve the problem or execute your idea. Remember that you will need to use the Foursquare location data to solve the problem or execute your idea. You can absolutely use other datasets in combination with the Foursquare location data. So make sure that you provide adequate explanation and discussion, with examples, of the data that you will be using, even if it is only Foursquare location data_"
   ]
  },
  {
   "cell_type": "markdown",
   "metadata": {},
   "source": [
    "First I will choose 3 cities of similar size to explore, based on data from https://en.wikipedia.org/wiki/List_of_United_States_cities_by_population. Then I will get the city's latitude and longitude from the same data set and use this to get the venue data from Foursquare. I will list the venues by category and refine by restaurants only. Then I will one hot encode the restaurants and get their mean and frequency. I will compare this data for the three cities and map the different types of venues for each city. Ideally, the data will clearly point to a city by having many more types of restaurants than another. "
   ]
  },
  {
   "cell_type": "code",
   "execution_count": null,
   "metadata": {},
   "outputs": [],
   "source": []
  }
 ],
 "metadata": {
  "kernelspec": {
   "display_name": "Python",
   "language": "python",
   "name": "conda-env-python-py"
  },
  "language_info": {
   "codemirror_mode": {
    "name": "ipython",
    "version": 3
   },
   "file_extension": ".py",
   "mimetype": "text/x-python",
   "name": "python",
   "nbconvert_exporter": "python",
   "pygments_lexer": "ipython3",
   "version": "3.6.10"
  }
 },
 "nbformat": 4,
 "nbformat_minor": 4
}
